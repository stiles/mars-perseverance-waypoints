{
 "cells": [
  {
   "cell_type": "markdown",
   "id": "0fdd4e16-e062-4146-9c40-05a340ecc972",
   "metadata": {},
   "source": [
    "# Mars Perseverance Waypoints\n",
    "> This notebook reads and processes hundreds of daily json files listing the locations traveled by the rover since March 2021. "
   ]
  },
  {
   "cell_type": "markdown",
   "id": "2cd6a4cf-3892-4cc9-97de-84f87dc86d7d",
   "metadata": {},
   "source": [
    "#### Load Python tools and Jupyter config"
   ]
  },
  {
   "cell_type": "code",
   "execution_count": 64,
   "id": "c3b1c77c-b670-495b-aca3-e14b06448d51",
   "metadata": {},
   "outputs": [],
   "source": [
    "import os\n",
    "import json\n",
    "import requests\n",
    "import pandas as pd\n",
    "import jupyter_black\n",
    "import altair as alt\n",
    "from glob import glob\n",
    "import geopandas as gpd\n",
    "from shapely.geometry import Point, LineString"
   ]
  },
  {
   "cell_type": "code",
   "execution_count": 3,
   "id": "daa1430b-ced1-4480-95b0-2aabaf9b0ae3",
   "metadata": {},
   "outputs": [
    {
     "data": {
      "text/html": [
       "\n",
       "                <script type=\"application/javascript\" id=\"jupyter_black\">\n",
       "                (function() {\n",
       "                    if (window.IPython === undefined) {\n",
       "                        return\n",
       "                    }\n",
       "                    var msg = \"WARNING: it looks like you might have loaded \" +\n",
       "                        \"jupyter_black in a non-lab notebook with \" +\n",
       "                        \"`is_lab=True`. Please double check, and if \" +\n",
       "                        \"loading with `%load_ext` please review the README!\"\n",
       "                    console.log(msg)\n",
       "                    alert(msg)\n",
       "                })()\n",
       "                </script>\n",
       "                "
      ],
      "text/plain": [
       "<IPython.core.display.HTML object>"
      ]
     },
     "metadata": {},
     "output_type": "display_data"
    }
   ],
   "source": [
    "jupyter_black.load()\n",
    "pd.options.display.max_columns = 100\n",
    "pd.options.display.max_rows = 1000\n",
    "pd.options.display.max_colwidth = None"
   ]
  },
  {
   "cell_type": "code",
   "execution_count": 4,
   "id": "38e657d1-fe82-4a06-b0f2-b9b881adef9b",
   "metadata": {},
   "outputs": [],
   "source": [
    "today = pd.Timestamp(\"today\").strftime(\"%Y%m%d\")"
   ]
  },
  {
   "cell_type": "markdown",
   "id": "d9ec1603-0bda-4d46-a251-1c50f137d197",
   "metadata": {},
   "source": [
    "---"
   ]
  },
  {
   "cell_type": "markdown",
   "id": "3bbfd20b-7936-4f21-a091-697fca808ab1",
   "metadata": {},
   "source": [
    "## Read and combine"
   ]
  },
  {
   "cell_type": "markdown",
   "id": "70c799af-d3be-4577-96fa-ba056f433607",
   "metadata": {},
   "source": [
    "#### List all JSON files showing daily activity in the directory"
   ]
  },
  {
   "cell_type": "code",
   "execution_count": 104,
   "id": "c3fa30d9-a8f9-4a2d-9e1e-9759aacd87c4",
   "metadata": {},
   "outputs": [
    {
     "data": {
      "text/plain": [
       "['data/raw/waypoints_current_2021-08-07.json',\n",
       " 'data/raw/waypoints_current_2023-03-10.json',\n",
       " 'data/raw/waypoints_current_2021-04-24.json',\n",
       " 'data/raw/waypoints_current_2021-06-19.json',\n",
       " 'data/raw/waypoints_current_2022-07-17.json']"
      ]
     },
     "execution_count": 104,
     "metadata": {},
     "output_type": "execute_result"
    }
   ],
   "source": [
    "files = glob(\"data/raw/waypoints_current_*.json\")\n",
    "files[:5]"
   ]
  },
  {
   "cell_type": "markdown",
   "id": "f83792e0-c8ef-47d4-a799-685546dd3f59",
   "metadata": {},
   "source": [
    "#### Read each file, normalize the json structure, assign a date column from file name and append in a list"
   ]
  },
  {
   "cell_type": "code",
   "execution_count": 24,
   "id": "ec83e10b-aaeb-4ba8-a549-3a15205e3487",
   "metadata": {},
   "outputs": [],
   "source": [
    "dfs = []\n",
    "\n",
    "for file in files:\n",
    "    base = os.path.basename(file)\n",
    "    date_str = base.replace(\"waypoints_current_\", \"\").replace(\".json\", \"\")\n",
    "\n",
    "    try:\n",
    "        with open(file) as f:\n",
    "            data = json.load(f)\n",
    "    except json.JSONDecodeError:\n",
    "        print(f\"Skipping file {file} due to JSON decoding error.\")\n",
    "        continue\n",
    "\n",
    "    # Extract 'features'\n",
    "    features = data[\"features\"]\n",
    "\n",
    "    # Create a list to collect properties from all features\n",
    "    all_features_properties = []\n",
    "\n",
    "    # Loop through each feature to normalize its properties\n",
    "    for feature in features:\n",
    "        properties = feature[\"properties\"]\n",
    "        properties[\"date\"] = date_str  # Add the date to each property\n",
    "        all_features_properties.append(properties)\n",
    "\n",
    "    # Convert the list of properties dictionaries into a dataframe\n",
    "    properties_df = pd.DataFrame(all_features_properties)\n",
    "\n",
    "    # Append that dataframe to our list\n",
    "    dfs.append(properties_df)"
   ]
  },
  {
   "cell_type": "markdown",
   "id": "12a98050-2255-4a41-97bb-c416e01c4f45",
   "metadata": {},
   "source": [
    "#### Concatenate all the daily dataframes"
   ]
  },
  {
   "cell_type": "code",
   "execution_count": 25,
   "id": "555c8852-b499-404a-b846-5c9593dbf0b7",
   "metadata": {},
   "outputs": [],
   "source": [
    "all_data_df = pd.concat(dfs, ignore_index=True)"
   ]
  },
  {
   "cell_type": "markdown",
   "id": "8f8374be-dcd4-4147-be31-23e480a61332",
   "metadata": {},
   "source": [
    "#### Convert longitude and latitude to geometric points and create geodataframe"
   ]
  },
  {
   "cell_type": "code",
   "execution_count": 84,
   "id": "1e7f4300-fdec-4aa9-af7a-f6e98c72ed94",
   "metadata": {},
   "outputs": [],
   "source": [
    "geometry = [Point(xy) for xy in zip(all_data_df[\"lon\"], all_data_df[\"lat\"])]\n",
    "geo_df = gpd.GeoDataFrame(all_data_df, geometry=geometry)"
   ]
  },
  {
   "cell_type": "markdown",
   "id": "84f05fab-e68e-4b0f-b174-d3000f061a42",
   "metadata": {},
   "source": [
    "#### Ensure correct data types for potential date manipulation later"
   ]
  },
  {
   "cell_type": "code",
   "execution_count": 85,
   "id": "8ff8ad54-8082-4658-b7cf-aaecc785e359",
   "metadata": {},
   "outputs": [],
   "source": [
    "geo_df[\"date\"] = pd.to_datetime(geo_df[\"date\"])"
   ]
  },
  {
   "cell_type": "markdown",
   "id": "33deb8f7-8088-4239-b5ca-6bcfc3e7f57b",
   "metadata": {},
   "source": [
    "#### Sort geodataframe by earliest date"
   ]
  },
  {
   "cell_type": "code",
   "execution_count": 86,
   "id": "98954e35-05ca-4d35-8934-f617a031484e",
   "metadata": {},
   "outputs": [],
   "source": [
    "geo_df = geo_df.sort_values(\"date\", ascending=False)"
   ]
  },
  {
   "cell_type": "markdown",
   "id": "056f1ce5-5d67-4cfd-aa2b-642ec9072713",
   "metadata": {},
   "source": [
    "---"
   ]
  },
  {
   "cell_type": "markdown",
   "id": "fb966959-ce4a-40b8-a252-9cbb3706b636",
   "metadata": {},
   "source": [
    "## Process"
   ]
  },
  {
   "cell_type": "markdown",
   "id": "6ee0ca9b-4ff3-43d2-ab0c-dfa7dfbad5bc",
   "metadata": {},
   "source": [
    "#### Filter rows where 'images' is not NaN and contains data"
   ]
  },
  {
   "cell_type": "code",
   "execution_count": 87,
   "id": "d2de8037-fb40-467f-ab15-14a82831cb5e",
   "metadata": {},
   "outputs": [],
   "source": [
    "has_images = geo_df[\"images\"].apply(lambda x: isinstance(x, list) and len(x) > 0)"
   ]
  },
  {
   "cell_type": "markdown",
   "id": "e209e433-bb4a-402e-807e-dbca4f035931",
   "metadata": {},
   "source": [
    "#### Empty dataframe to hold the normalized images data"
   ]
  },
  {
   "cell_type": "code",
   "execution_count": 88,
   "id": "73a0f367-a3af-48e2-b889-d133b9152b26",
   "metadata": {},
   "outputs": [],
   "source": [
    "images_df = pd.DataFrame()"
   ]
  },
  {
   "cell_type": "markdown",
   "id": "b5346609-cf7f-4860-beb4-8f864201e359",
   "metadata": {},
   "source": [
    "#### Normalize and extract 'images' data where applicable"
   ]
  },
  {
   "cell_type": "code",
   "execution_count": 89,
   "id": "1bb47465-4755-46b7-a9d1-509900a38eb4",
   "metadata": {},
   "outputs": [],
   "source": [
    "if has_images.any():\n",
    "    # Normalize the 'images' data for rows that have it and reset index for merging\n",
    "    images_info = pd.json_normalize(\n",
    "        geo_df[has_images][\"images\"].explode()\n",
    "    ).reset_index()\n",
    "    # Select and rename columns if necessary from images_info\n",
    "    selected_columns = images_info.drop_duplicates(\"index\").set_index(\"index\")"
   ]
  },
  {
   "cell_type": "markdown",
   "id": "ee53f5fb-0198-4180-aa45-34f75e39364f",
   "metadata": {},
   "source": [
    "#### Merge the extracted 'images' data back into the original geodataframe"
   ]
  },
  {
   "cell_type": "code",
   "execution_count": 90,
   "id": "d6959287-dd95-4acc-af09-cf78b1bc4cfc",
   "metadata": {},
   "outputs": [],
   "source": [
    "# Use a left join to keep all original rows, adding the new columns where available\n",
    "geo_df = geo_df.merge(\n",
    "    selected_columns, left_index=True, right_index=True, suffixes=(None, \"_drop\")\n",
    ")"
   ]
  },
  {
   "cell_type": "markdown",
   "id": "83ef3cfc-551f-408f-a054-ee2b461d87d7",
   "metadata": {},
   "source": [
    "#### Clean up the columns"
   ]
  },
  {
   "cell_type": "code",
   "execution_count": 91,
   "id": "17be4f0b-9e89-4da6-a4c5-271485b6ab95",
   "metadata": {},
   "outputs": [],
   "source": [
    "geo_df = geo_df[[col for col in geo_df.columns if not col.endswith(\"_drop\")]]\n",
    "geo_df = geo_df[[col for col in geo_df.columns if not col.endswith(\"_y\")]]\n",
    "geo_df = geo_df[[col for col in geo_df.columns if not col.endswith(\"_x\")]]"
   ]
  },
  {
   "cell_type": "markdown",
   "id": "594d5cd6-bf64-4e43-8dd5-e037e9444938",
   "metadata": {},
   "source": [
    "#### Drop columns with all null values"
   ]
  },
  {
   "cell_type": "code",
   "execution_count": 92,
   "id": "bb1b7c9f-ead5-4819-864a-a65abf6a5244",
   "metadata": {},
   "outputs": [],
   "source": [
    "geo_df_slim = geo_df.dropna(axis=1, how=\"any\")\n",
    "geo_df_cleaned = geo_df_slim.dropna(subset=[\"geometry\"])"
   ]
  },
  {
   "cell_type": "markdown",
   "id": "0ffd6f0d-5999-403d-b7e3-f6aa924fac11",
   "metadata": {},
   "source": [
    "#### The result"
   ]
  },
  {
   "cell_type": "code",
   "execution_count": 93,
   "id": "c3a78d77-5849-4fde-a0c6-556973a15f5a",
   "metadata": {},
   "outputs": [
    {
     "data": {
      "text/plain": [
       "494"
      ]
     },
     "execution_count": 93,
     "metadata": {},
     "output_type": "execute_result"
    }
   ],
   "source": [
    "len(geo_df_cleaned)"
   ]
  },
  {
   "cell_type": "code",
   "execution_count": 94,
   "id": "e0aecced-7a84-4fc8-8136-5aa22856323a",
   "metadata": {},
   "outputs": [
    {
     "data": {
      "text/html": [
       "<div>\n",
       "<style scoped>\n",
       "    .dataframe tbody tr th:only-of-type {\n",
       "        vertical-align: middle;\n",
       "    }\n",
       "\n",
       "    .dataframe tbody tr th {\n",
       "        vertical-align: top;\n",
       "    }\n",
       "\n",
       "    .dataframe thead th {\n",
       "        text-align: right;\n",
       "    }\n",
       "</style>\n",
       "<table border=\"1\" class=\"dataframe\">\n",
       "  <thead>\n",
       "    <tr style=\"text-align: right;\">\n",
       "      <th></th>\n",
       "      <th>RMC</th>\n",
       "      <th>site</th>\n",
       "      <th>drive</th>\n",
       "      <th>sol</th>\n",
       "      <th>easting</th>\n",
       "      <th>northing</th>\n",
       "      <th>elev_geoid</th>\n",
       "      <th>elev_radii</th>\n",
       "      <th>radius</th>\n",
       "      <th>roll</th>\n",
       "      <th>pitch</th>\n",
       "      <th>yaw</th>\n",
       "      <th>tilt</th>\n",
       "      <th>dist_m</th>\n",
       "      <th>dist_km</th>\n",
       "      <th>dist_mi</th>\n",
       "      <th>Note</th>\n",
       "      <th>date</th>\n",
       "      <th>geometry</th>\n",
       "      <th>name</th>\n",
       "      <th>isPanoramic</th>\n",
       "      <th>url</th>\n",
       "      <th>rows</th>\n",
       "      <th>columns</th>\n",
       "      <th>azmin</th>\n",
       "      <th>azmax</th>\n",
       "      <th>elmin</th>\n",
       "      <th>elmax</th>\n",
       "      <th>elzero</th>\n",
       "    </tr>\n",
       "  </thead>\n",
       "  <tbody>\n",
       "    <tr>\n",
       "      <th>173</th>\n",
       "      <td>51_2578</td>\n",
       "      <td>51</td>\n",
       "      <td>2578</td>\n",
       "      <td>1109</td>\n",
       "      <td>4347334.516</td>\n",
       "      <td>1096047.789</td>\n",
       "      <td>-2369.412354</td>\n",
       "      <td>-4057.827637</td>\n",
       "      <td>3392132.172</td>\n",
       "      <td>1.965227</td>\n",
       "      <td>6.532164</td>\n",
       "      <td>-101.441674</td>\n",
       "      <td>6.820156</td>\n",
       "      <td>41.298</td>\n",
       "      <td>25.26</td>\n",
       "      <td>15.7</td>\n",
       "      <td>Used Mobility Report WID 41091</td>\n",
       "      <td>2024-04-04</td>\n",
       "      <td>POINT (77.32354 18.49099)</td>\n",
       "      <td>Panorama</td>\n",
       "      <td>True</td>\n",
       "      <td>Layers/mosaics/N_LRGB_0933_RZS_0460000_CYL_L_AUTOGENJ01.jpg</td>\n",
       "      <td>1607</td>\n",
       "      <td>3723</td>\n",
       "      <td>146.157</td>\n",
       "      <td>218.282</td>\n",
       "      <td>-58.4867</td>\n",
       "      <td>-27.3526</td>\n",
       "      <td>-1411.04</td>\n",
       "    </tr>\n",
       "    <tr>\n",
       "      <th>307</th>\n",
       "      <td>51_2578</td>\n",
       "      <td>51</td>\n",
       "      <td>2578</td>\n",
       "      <td>1109</td>\n",
       "      <td>4347334.516</td>\n",
       "      <td>1096047.789</td>\n",
       "      <td>-2369.412354</td>\n",
       "      <td>-4057.827637</td>\n",
       "      <td>3392132.172</td>\n",
       "      <td>1.965227</td>\n",
       "      <td>6.532164</td>\n",
       "      <td>-101.441674</td>\n",
       "      <td>6.820156</td>\n",
       "      <td>41.298</td>\n",
       "      <td>25.26</td>\n",
       "      <td>15.7</td>\n",
       "      <td>Used Mobility Report WID 41091</td>\n",
       "      <td>2024-04-03</td>\n",
       "      <td>POINT (77.32354 18.49099)</td>\n",
       "      <td>Panorama</td>\n",
       "      <td>True</td>\n",
       "      <td>Layers/mosaics/N_LRGB_0797_RZS_0391170_CYL_L_AUTOGENJ01.jpg</td>\n",
       "      <td>2351</td>\n",
       "      <td>9292</td>\n",
       "      <td>0</td>\n",
       "      <td>360</td>\n",
       "      <td>-70.9031</td>\n",
       "      <td>20.1864</td>\n",
       "      <td>522.049</td>\n",
       "    </tr>\n",
       "    <tr>\n",
       "      <th>411</th>\n",
       "      <td>51_1904</td>\n",
       "      <td>51</td>\n",
       "      <td>1904</td>\n",
       "      <td>1106</td>\n",
       "      <td>4347392.339</td>\n",
       "      <td>1096040.721</td>\n",
       "      <td>-2372.669678</td>\n",
       "      <td>-4061.23877</td>\n",
       "      <td>3392128.761</td>\n",
       "      <td>0.247698</td>\n",
       "      <td>10.550938</td>\n",
       "      <td>-72.474748</td>\n",
       "      <td>10.553813</td>\n",
       "      <td>1.283</td>\n",
       "      <td>25.17</td>\n",
       "      <td>15.64</td>\n",
       "      <td>Used Mobility Report WID 31061</td>\n",
       "      <td>2024-03-31</td>\n",
       "      <td>POINT (77.32457 18.49087)</td>\n",
       "      <td>Panorama</td>\n",
       "      <td>True</td>\n",
       "      <td>Layers/mosaics/N_LRGB_0709_RZS_0332864_CYL_L_AUTOGENJ01.jpg</td>\n",
       "      <td>4363</td>\n",
       "      <td>15459</td>\n",
       "      <td>165.054</td>\n",
       "      <td>104.514</td>\n",
       "      <td>-68.9609</td>\n",
       "      <td>15.568</td>\n",
       "      <td>804.679</td>\n",
       "    </tr>\n",
       "    <tr>\n",
       "      <th>415</th>\n",
       "      <td>51_1886</td>\n",
       "      <td>51</td>\n",
       "      <td>1886</td>\n",
       "      <td>1103</td>\n",
       "      <td>4347393.291</td>\n",
       "      <td>1096040.42</td>\n",
       "      <td>-2372.846191</td>\n",
       "      <td>-4061.415527</td>\n",
       "      <td>3392128.584</td>\n",
       "      <td>-0.189</td>\n",
       "      <td>8.061</td>\n",
       "      <td>-76.839</td>\n",
       "      <td>8.063</td>\n",
       "      <td>52.111</td>\n",
       "      <td>25.165</td>\n",
       "      <td>15.637</td>\n",
       "      <td>Used Mobility Report WID 41031</td>\n",
       "      <td>2024-03-30</td>\n",
       "      <td>POINT (77.32459 18.49086)</td>\n",
       "      <td>Panorama</td>\n",
       "      <td>True</td>\n",
       "      <td>Layers/mosaics/N_LRGB_0706_RZS_0330430_CYL_L_AUTOGENJ01.jpg</td>\n",
       "      <td>2487</td>\n",
       "      <td>9292</td>\n",
       "      <td>0</td>\n",
       "      <td>360</td>\n",
       "      <td>-66.3513</td>\n",
       "      <td>30</td>\n",
       "      <td>775.355</td>\n",
       "    </tr>\n",
       "    <tr>\n",
       "      <th>380</th>\n",
       "      <td>51_1590</td>\n",
       "      <td>51</td>\n",
       "      <td>1590</td>\n",
       "      <td>1102</td>\n",
       "      <td>4347437.457</td>\n",
       "      <td>1096037.272</td>\n",
       "      <td>-2375.036133</td>\n",
       "      <td>-4063.509521</td>\n",
       "      <td>3392126.49</td>\n",
       "      <td>-1.834</td>\n",
       "      <td>-2.621</td>\n",
       "      <td>-137.155</td>\n",
       "      <td>3.199</td>\n",
       "      <td>33.877</td>\n",
       "      <td>25.113</td>\n",
       "      <td>15.604</td>\n",
       "      <td>Used Mobility Report WID 51021</td>\n",
       "      <td>2024-03-27</td>\n",
       "      <td>POINT (77.32537 18.49081)</td>\n",
       "      <td>Panorama</td>\n",
       "      <td>True</td>\n",
       "      <td>Layers/mosaics/N_LRGB_0736_RZS_0370000_CYL_L_AUTOGENJ02.jpg</td>\n",
       "      <td>2273</td>\n",
       "      <td>9292</td>\n",
       "      <td>0</td>\n",
       "      <td>360</td>\n",
       "      <td>-74.3005</td>\n",
       "      <td>13.7756</td>\n",
       "      <td>356.575</td>\n",
       "    </tr>\n",
       "  </tbody>\n",
       "</table>\n",
       "</div>"
      ],
      "text/plain": [
       "         RMC site drive   sol      easting     northing   elev_geoid  \\\n",
       "173  51_2578   51  2578  1109  4347334.516  1096047.789 -2369.412354   \n",
       "307  51_2578   51  2578  1109  4347334.516  1096047.789 -2369.412354   \n",
       "411  51_1904   51  1904  1106  4347392.339  1096040.721 -2372.669678   \n",
       "415  51_1886   51  1886  1103  4347393.291   1096040.42 -2372.846191   \n",
       "380  51_1590   51  1590  1102  4347437.457  1096037.272 -2375.036133   \n",
       "\n",
       "      elev_radii       radius      roll      pitch         yaw       tilt  \\\n",
       "173 -4057.827637  3392132.172  1.965227   6.532164 -101.441674   6.820156   \n",
       "307 -4057.827637  3392132.172  1.965227   6.532164 -101.441674   6.820156   \n",
       "411  -4061.23877  3392128.761  0.247698  10.550938  -72.474748  10.553813   \n",
       "415 -4061.415527  3392128.584    -0.189      8.061     -76.839      8.063   \n",
       "380 -4063.509521   3392126.49    -1.834     -2.621    -137.155      3.199   \n",
       "\n",
       "     dist_m dist_km dist_mi                            Note       date  \\\n",
       "173  41.298   25.26    15.7  Used Mobility Report WID 41091 2024-04-04   \n",
       "307  41.298   25.26    15.7  Used Mobility Report WID 41091 2024-04-03   \n",
       "411   1.283   25.17   15.64  Used Mobility Report WID 31061 2024-03-31   \n",
       "415  52.111  25.165  15.637  Used Mobility Report WID 41031 2024-03-30   \n",
       "380  33.877  25.113  15.604  Used Mobility Report WID 51021 2024-03-27   \n",
       "\n",
       "                      geometry      name  isPanoramic  \\\n",
       "173  POINT (77.32354 18.49099)  Panorama         True   \n",
       "307  POINT (77.32354 18.49099)  Panorama         True   \n",
       "411  POINT (77.32457 18.49087)  Panorama         True   \n",
       "415  POINT (77.32459 18.49086)  Panorama         True   \n",
       "380  POINT (77.32537 18.49081)  Panorama         True   \n",
       "\n",
       "                                                             url  rows  \\\n",
       "173  Layers/mosaics/N_LRGB_0933_RZS_0460000_CYL_L_AUTOGENJ01.jpg  1607   \n",
       "307  Layers/mosaics/N_LRGB_0797_RZS_0391170_CYL_L_AUTOGENJ01.jpg  2351   \n",
       "411  Layers/mosaics/N_LRGB_0709_RZS_0332864_CYL_L_AUTOGENJ01.jpg  4363   \n",
       "415  Layers/mosaics/N_LRGB_0706_RZS_0330430_CYL_L_AUTOGENJ01.jpg  2487   \n",
       "380  Layers/mosaics/N_LRGB_0736_RZS_0370000_CYL_L_AUTOGENJ02.jpg  2273   \n",
       "\n",
       "    columns    azmin    azmax     elmin     elmax    elzero  \n",
       "173    3723  146.157  218.282  -58.4867  -27.3526  -1411.04  \n",
       "307    9292        0      360  -70.9031   20.1864   522.049  \n",
       "411   15459  165.054  104.514  -68.9609    15.568   804.679  \n",
       "415    9292        0      360  -66.3513        30   775.355  \n",
       "380    9292        0      360  -74.3005   13.7756   356.575  "
      ]
     },
     "execution_count": 94,
     "metadata": {},
     "output_type": "execute_result"
    }
   ],
   "source": [
    "geo_df_cleaned.head()"
   ]
  },
  {
   "cell_type": "code",
   "execution_count": 95,
   "id": "76b06caa-0e71-47fd-b56e-79e460046a67",
   "metadata": {},
   "outputs": [
    {
     "data": {
      "text/plain": [
       "<Axes: >"
      ]
     },
     "execution_count": 95,
     "metadata": {},
     "output_type": "execute_result"
    },
    {
     "data": {
      "image/png": "[encoded data removed]",
      "text/plain": [
       "<Figure size 640x480 with 1 Axes>"
      ]
     },
     "metadata": {},
     "output_type": "display_data"
    }
   ],
   "source": [
    "geo_df_cleaned.plot()"
   ]
  },
  {
   "cell_type": "markdown",
   "id": "1057dd07-06f4-436b-9cb6-e1e91796ea76",
   "metadata": {},
   "source": [
    "#### Convert points to linestring to get rover path"
   ]
  },
  {
   "cell_type": "code",
   "execution_count": 96,
   "id": "66066767-b0f2-4b74-80fc-770d8e2f1915",
   "metadata": {},
   "outputs": [
    {
     "ename": "IndexError",
     "evalue": "index out of range",
     "output_type": "error",
     "traceback": [
      "\u001b[0;31m---------------------------------------------------------------------------\u001b[0m",
      "\u001b[0;31mIndexError\u001b[0m                                Traceback (most recent call last)",
      "Cell \u001b[0;32mIn[96], line 7\u001b[0m\n\u001b[1;32m      4\u001b[0m \u001b[38;5;66;03m# Verify that the GeoDataFrame is not empty and contains Point geometries\u001b[39;00m\n\u001b[1;32m      5\u001b[0m \u001b[38;5;28;01mif\u001b[39;00m \u001b[38;5;129;01mnot\u001b[39;00m geo_df_cleaned\u001b[38;5;241m.\u001b[39mempty \u001b[38;5;129;01mand\u001b[39;00m \u001b[38;5;28mall\u001b[39m(geo_df_cleaned\u001b[38;5;241m.\u001b[39mgeometry\u001b[38;5;241m.\u001b[39mtype \u001b[38;5;241m==\u001b[39m \u001b[38;5;124m'\u001b[39m\u001b[38;5;124mPoint\u001b[39m\u001b[38;5;124m'\u001b[39m):\n\u001b[1;32m      6\u001b[0m     \u001b[38;5;66;03m# Extract coordinate tuples from each Point geometry\u001b[39;00m\n\u001b[0;32m----> 7\u001b[0m     coords \u001b[38;5;241m=\u001b[39m [point\u001b[38;5;241m.\u001b[39mcoords[\u001b[38;5;241m0\u001b[39m] \u001b[38;5;28;01mfor\u001b[39;00m point \u001b[38;5;129;01min\u001b[39;00m geo_df_cleaned\u001b[38;5;241m.\u001b[39mgeometry]\n\u001b[1;32m      9\u001b[0m     \u001b[38;5;66;03m# Ensure there are at least two points to form a LineString\u001b[39;00m\n\u001b[1;32m     10\u001b[0m     \u001b[38;5;28;01mif\u001b[39;00m \u001b[38;5;28mlen\u001b[39m(coords) \u001b[38;5;241m>\u001b[39m\u001b[38;5;241m=\u001b[39m \u001b[38;5;241m2\u001b[39m:\n\u001b[1;32m     11\u001b[0m         \u001b[38;5;66;03m# Create the LineString from the list of coordinate tuples\u001b[39;00m\n",
      "Cell \u001b[0;32mIn[96], line 7\u001b[0m, in \u001b[0;36m<listcomp>\u001b[0;34m(.0)\u001b[0m\n\u001b[1;32m      4\u001b[0m \u001b[38;5;66;03m# Verify that the GeoDataFrame is not empty and contains Point geometries\u001b[39;00m\n\u001b[1;32m      5\u001b[0m \u001b[38;5;28;01mif\u001b[39;00m \u001b[38;5;129;01mnot\u001b[39;00m geo_df_cleaned\u001b[38;5;241m.\u001b[39mempty \u001b[38;5;129;01mand\u001b[39;00m \u001b[38;5;28mall\u001b[39m(geo_df_cleaned\u001b[38;5;241m.\u001b[39mgeometry\u001b[38;5;241m.\u001b[39mtype \u001b[38;5;241m==\u001b[39m \u001b[38;5;124m'\u001b[39m\u001b[38;5;124mPoint\u001b[39m\u001b[38;5;124m'\u001b[39m):\n\u001b[1;32m      6\u001b[0m     \u001b[38;5;66;03m# Extract coordinate tuples from each Point geometry\u001b[39;00m\n\u001b[0;32m----> 7\u001b[0m     coords \u001b[38;5;241m=\u001b[39m [\u001b[43mpoint\u001b[49m\u001b[38;5;241;43m.\u001b[39;49m\u001b[43mcoords\u001b[49m\u001b[43m[\u001b[49m\u001b[38;5;241;43m0\u001b[39;49m\u001b[43m]\u001b[49m \u001b[38;5;28;01mfor\u001b[39;00m point \u001b[38;5;129;01min\u001b[39;00m geo_df_cleaned\u001b[38;5;241m.\u001b[39mgeometry]\n\u001b[1;32m      9\u001b[0m     \u001b[38;5;66;03m# Ensure there are at least two points to form a LineString\u001b[39;00m\n\u001b[1;32m     10\u001b[0m     \u001b[38;5;28;01mif\u001b[39;00m \u001b[38;5;28mlen\u001b[39m(coords) \u001b[38;5;241m>\u001b[39m\u001b[38;5;241m=\u001b[39m \u001b[38;5;241m2\u001b[39m:\n\u001b[1;32m     11\u001b[0m         \u001b[38;5;66;03m# Create the LineString from the list of coordinate tuples\u001b[39;00m\n",
      "File \u001b[0;32m~/.local/share/virtualenvs/mars-perseverance-waypoints-3KSatDdt/lib/python3.10/site-packages/shapely/coords.py:34\u001b[0m, in \u001b[0;36mCoordinateSequence.__getitem__\u001b[0;34m(self, key)\u001b[0m\n\u001b[1;32m     32\u001b[0m \u001b[38;5;28;01mif\u001b[39;00m \u001b[38;5;28misinstance\u001b[39m(key, \u001b[38;5;28mint\u001b[39m):\n\u001b[1;32m     33\u001b[0m     \u001b[38;5;28;01mif\u001b[39;00m key \u001b[38;5;241m+\u001b[39m m \u001b[38;5;241m<\u001b[39m \u001b[38;5;241m0\u001b[39m \u001b[38;5;129;01mor\u001b[39;00m key \u001b[38;5;241m>\u001b[39m\u001b[38;5;241m=\u001b[39m m:\n\u001b[0;32m---> 34\u001b[0m         \u001b[38;5;28;01mraise\u001b[39;00m \u001b[38;5;167;01mIndexError\u001b[39;00m(\u001b[38;5;124m\"\u001b[39m\u001b[38;5;124mindex out of range\u001b[39m\u001b[38;5;124m\"\u001b[39m)\n\u001b[1;32m     35\u001b[0m     \u001b[38;5;28;01mif\u001b[39;00m key \u001b[38;5;241m<\u001b[39m \u001b[38;5;241m0\u001b[39m:\n\u001b[1;32m     36\u001b[0m         i \u001b[38;5;241m=\u001b[39m m \u001b[38;5;241m+\u001b[39m key\n",
      "\u001b[0;31mIndexError\u001b[0m: index out of range"
     ]
    }
   ],
   "source": [
    "from shapely.geometry import LineString\n",
    "import geopandas as gpd\n",
    "\n",
    "# Verify that the GeoDataFrame is not empty and contains Point geometries\n",
    "if not geo_df_cleaned.empty and all(geo_df_cleaned.geometry.type == 'Point'):\n",
    "    # Extract coordinate tuples from each Point geometry\n",
    "    coords = [point.coords[0] for point in geo_df_cleaned.geometry]\n",
    "\n",
    "    # Ensure there are at least two points to form a LineString\n",
    "    if len(coords) >= 2:\n",
    "        # Create the LineString from the list of coordinate tuples\n",
    "        linestring = LineString(coords)\n",
    "        # Create a new GeoDataFrame with this LineString\n",
    "        linestrings_gdf = gpd.GeoDataFrame(geometry=[linestring], crs=geo_df_cleaned.crs)\n",
    "        print(linestrings_gdf)\n",
    "    else:\n",
    "        print(\"Not enough points to form a LineString.\")\n",
    "else:\n",
    "    print(\"GeoDataFrame is empty or does not contain valid Point geometries.\")"
   ]
  },
  {
   "cell_type": "markdown",
   "id": "17c85e73-8f64-4e87-b11c-d2d1c8a8f435",
   "metadata": {},
   "source": [
    "#### Remove rows with None, NaN, or empty geometries"
   ]
  },
  {
   "cell_type": "code",
   "execution_count": null,
   "id": "ba7fef23-110f-4462-93c7-312feb0290ce",
   "metadata": {},
   "outputs": [],
   "source": [
    "valid_geo_df = geo_df_cleaned[\n",
    "    ~(\n",
    "        geo_df_cleaned.geometry.isnull()\n",
    "        | geo_df_cleaned.geometry.apply(lambda geom: geom.is_empty)\n",
    "    )\n",
    "]\n",
    "\n",
    "print(f\"Valid geometries count: {len(valid_geo_df)}\")"
   ]
  },
  {
   "cell_type": "code",
   "execution_count": null,
   "id": "de5b3a76-79ea-49de-a1b4-33710d664075",
   "metadata": {},
   "outputs": [],
   "source": [
    "if not valid_geo_df.empty:\n",
    "    # Extract coordinate tuples from each Point geometry\n",
    "    coords = [(point.x, point.y) for point in valid_geo_df.geometry]\n",
    "\n",
    "    # Ensure there are at least two points to form a LineString\n",
    "    if len(coords) >= 2:\n",
    "        # Create the LineString from the list of coordinate tuples\n",
    "        linestring = LineString(coords)\n",
    "        # Create a new GeoDataFrame with this LineString\n",
    "        linestrings_gdf = gpd.GeoDataFrame(geometry=[linestring], crs=valid_geo_df.crs)\n",
    "    else:\n",
    "        print(\"Not enough points to form a LineString.\")\n",
    "else:\n",
    "    print(\"No valid geometries to form a LineString.\")"
   ]
  },
  {
   "cell_type": "code",
   "execution_count": 103,
   "id": "a8337e9d-c510-40e2-b400-e2cdfae1e663",
   "metadata": {},
   "outputs": [
    {
     "data": {
      "text/plain": [
       "<Axes: >"
      ]
     },
     "execution_count": 103,
     "metadata": {},
     "output_type": "execute_result"
    },
    {
     "data": {
      "image/png": "[encoded data removed]",
      "text/plain": [
       "<Figure size 640x480 with 1 Axes>"
      ]
     },
     "metadata": {},
     "output_type": "display_data"
    }
   ],
   "source": [
    "linestrings_gdf.plot()"
   ]
  },
  {
   "cell_type": "markdown",
   "id": "15b9c879-2480-49f4-99e7-6adc1a4c10aa",
   "metadata": {},
   "source": [
    "---"
   ]
  },
  {
   "cell_type": "markdown",
   "id": "41af18db-4aeb-4259-a7c1-b52471eb8693",
   "metadata": {},
   "source": [
    "## Exports"
   ]
  },
  {
   "cell_type": "markdown",
   "id": "e3831fb4-1062-4cab-9730-933ff07e01f0",
   "metadata": {},
   "source": [
    "#### Rover path as linestring"
   ]
  },
  {
   "cell_type": "code",
   "execution_count": 17,
   "id": "e1e78a42-ba8a-49aa-a699-58e33fa204d0",
   "metadata": {},
   "outputs": [],
   "source": [
    "gdf.to_file(\n",
    "    f\"data/processed/rover_path_full.geojson\",\n",
    "    driver=\"GeoJSON\",\n",
    ")"
   ]
  },
  {
   "cell_type": "markdown",
   "id": "d737f808-9d71-4f25-8cd1-3fcedc45ab63",
   "metadata": {},
   "source": [
    "#### CSV"
   ]
  },
  {
   "cell_type": "code",
   "execution_count": 18,
   "id": "0504831b-4df4-4ff2-bd26-f08ef7ca9198",
   "metadata": {},
   "outputs": [],
   "source": [
    "# df.to_csv(\n",
    "#     f\"data/processed/NAME.csv\", index=False\n",
    "# )"
   ]
  },
  {
   "cell_type": "markdown",
   "id": "eb8769bc-1de1-40d0-9b7b-4892893606ee",
   "metadata": {},
   "source": [
    "#### GeoJSON"
   ]
  },
  {
   "cell_type": "code",
   "execution_count": 19,
   "id": "3aaff910-d7a8-4b73-acdf-6b49e09bbe2f",
   "metadata": {},
   "outputs": [],
   "source": [
    "# gdf.to_file(\n",
    "#     f\"data/processed/NAME.geojson\",\n",
    "#     driver=\"GeoJSON\",\n",
    "# )"
   ]
  }
 ],
 "metadata": {
  "kernelspec": {
   "display_name": "Python 3 (ipykernel)",
   "language": "python",
   "name": "python3"
  },
  "language_info": {
   "codemirror_mode": {
    "name": "ipython",
    "version": 3
   },
   "file_extension": ".py",
   "mimetype": "text/x-python",
   "name": "python",
   "nbconvert_exporter": "python",
   "pygments_lexer": "ipython3",
   "version": "3.10.9"
  }
 },
 "nbformat": 4,
 "nbformat_minor": 5
}
